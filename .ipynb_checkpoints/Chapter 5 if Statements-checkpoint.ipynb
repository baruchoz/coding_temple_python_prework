{
 "cells": [
  {
   "cell_type": "code",
   "execution_count": 84,
   "id": "cea61341",
   "metadata": {},
   "outputs": [
    {
     "name": "stdout",
     "output_type": "stream",
     "text": [
      "A Simple Example:\n",
      "\n",
      "Audi\n",
      "BMW\n",
      "Subaru\n",
      "Toyota\n"
     ]
    }
   ],
   "source": [
    "print(\"A Simple Example:\" + \"\\n\")\n",
    "\n",
    "cars = ['audi', 'bmw', 'subaru', 'toyota'] \n",
    "for car in cars:\n",
    "    if car == 'bmw': \n",
    "        print(car.upper()) \n",
    "    else:\n",
    "        print(car.title())"
   ]
  },
  {
   "cell_type": "code",
   "execution_count": 142,
   "id": "8a485608",
   "metadata": {},
   "outputs": [
    {
     "name": "stdout",
     "output_type": "stream",
     "text": [
      " '== is equality operator. Returns True if values on < and > side of operator match, & False if they dont.'\n"
     ]
    }
   ],
   "source": [
    "print(\" '== is equality operator. Returns True if values on < and > side of operator match, & False if they dont.'\")"
   ]
  },
  {
   "cell_type": "code",
   "execution_count": 86,
   "id": "e7be13fa",
   "metadata": {},
   "outputs": [
    {
     "name": "stdout",
     "output_type": "stream",
     "text": [
      "Conditional Tests:\n",
      "\n",
      "An expression that can be evaluated as True or False and is called a conditional test.\n"
     ]
    }
   ],
   "source": [
    "print(\"Conditional Tests:\")\n",
    "\n",
    "print(\"\\nAn expression that can be evaluated as True or False and is called a conditional test.\")"
   ]
  },
  {
   "cell_type": "code",
   "execution_count": 49,
   "id": "3829b7b2",
   "metadata": {},
   "outputs": [
    {
     "name": "stdout",
     "output_type": "stream",
     "text": [
      "Checking for Equality:\n"
     ]
    },
    {
     "data": {
      "text/plain": [
       "True"
      ]
     },
     "execution_count": 49,
     "metadata": {},
     "output_type": "execute_result"
    }
   ],
   "source": [
    "print(\"Checking for Equality:\")\n",
    "car = 'bmw'\n",
    "car == 'bmw'"
   ]
  },
  {
   "cell_type": "code",
   "execution_count": 50,
   "id": "dee4d3c4",
   "metadata": {},
   "outputs": [
    {
     "name": "stdout",
     "output_type": "stream",
     "text": [
      "Ignoring Case When Checking for Equality:\n"
     ]
    },
    {
     "data": {
      "text/plain": [
       "False"
      ]
     },
     "execution_count": 50,
     "metadata": {},
     "output_type": "execute_result"
    }
   ],
   "source": [
    "print(\"Ignoring Case When Checking for Equality:\")\n",
    "car = 'Audi'\n",
    "car == 'audi'"
   ]
  },
  {
   "cell_type": "code",
   "execution_count": 51,
   "id": "57c547d7",
   "metadata": {},
   "outputs": [
    {
     "data": {
      "text/plain": [
       "True"
      ]
     },
     "execution_count": 51,
     "metadata": {},
     "output_type": "execute_result"
    }
   ],
   "source": [
    "car = 'Audi'\n",
    "car.lower() == 'audi'"
   ]
  },
  {
   "cell_type": "code",
   "execution_count": 52,
   "id": "84417b71",
   "metadata": {},
   "outputs": [
    {
     "data": {
      "text/plain": [
       "'Audi'"
      ]
     },
     "execution_count": 52,
     "metadata": {},
     "output_type": "execute_result"
    }
   ],
   "source": [
    "car = 'Audi'\n",
    "car.lower() == 'audi'\n",
    "\n",
    "car"
   ]
  },
  {
   "cell_type": "code",
   "execution_count": 53,
   "id": "86ca0768",
   "metadata": {},
   "outputs": [
    {
     "name": "stdout",
     "output_type": "stream",
     "text": [
      "Checking for Inequality:\n",
      "\n",
      "Hold the anchovies!\n",
      "\n",
      "If these two values do not match, Python returns True and executes the code following the if statement.\n"
     ]
    }
   ],
   "source": [
    "print(\"Checking for Inequality:\" + \"\\n\")\n",
    "requested_topping = 'mushrooms'\n",
    "if requested_topping != 'anchovies':\n",
    "    print(\"Hold the anchovies!\")\n",
    "\n",
    "    print(\"\\nIf these two values do not match, Python returns True and executes the code following the if statement.\")"
   ]
  },
  {
   "cell_type": "code",
   "execution_count": 54,
   "id": "d21bb854",
   "metadata": {},
   "outputs": [
    {
     "name": "stdout",
     "output_type": "stream",
     "text": [
      "Numerical Comparisons:\n"
     ]
    },
    {
     "data": {
      "text/plain": [
       "True"
      ]
     },
     "execution_count": 54,
     "metadata": {},
     "output_type": "execute_result"
    }
   ],
   "source": [
    "print(\"Numerical Comparisons:\")\n",
    "age = 18\n",
    "age == 18"
   ]
  },
  {
   "cell_type": "code",
   "execution_count": 55,
   "id": "e3428ce7",
   "metadata": {},
   "outputs": [
    {
     "name": "stdout",
     "output_type": "stream",
     "text": [
      "That is not the correct answer. Please try again!\n"
     ]
    }
   ],
   "source": [
    "answer = 17\n",
    "if answer != 42:\n",
    "    print(\"That is not the correct answer. Please try again!\")"
   ]
  },
  {
   "cell_type": "code",
   "execution_count": 56,
   "id": "818ca276",
   "metadata": {},
   "outputs": [
    {
     "name": "stdout",
     "output_type": "stream",
     "text": [
      "Various mathematical comparisons in conditional statements:\n",
      "\n"
     ]
    }
   ],
   "source": [
    "print(\"Various mathematical comparisons in conditional statements:\" + \"\\n\")"
   ]
  },
  {
   "cell_type": "code",
   "execution_count": 57,
   "id": "ea759019",
   "metadata": {},
   "outputs": [
    {
     "data": {
      "text/plain": [
       "True"
      ]
     },
     "execution_count": 57,
     "metadata": {},
     "output_type": "execute_result"
    }
   ],
   "source": [
    "age = 19\n",
    "age < 21"
   ]
  },
  {
   "cell_type": "code",
   "execution_count": 58,
   "id": "ac24293a",
   "metadata": {},
   "outputs": [
    {
     "data": {
      "text/plain": [
       "True"
      ]
     },
     "execution_count": 58,
     "metadata": {},
     "output_type": "execute_result"
    }
   ],
   "source": [
    "age = 19\n",
    "age <= 21"
   ]
  },
  {
   "cell_type": "code",
   "execution_count": 59,
   "id": "40ec3f19",
   "metadata": {},
   "outputs": [
    {
     "data": {
      "text/plain": [
       "False"
      ]
     },
     "execution_count": 59,
     "metadata": {},
     "output_type": "execute_result"
    }
   ],
   "source": [
    "age = 19\n",
    "age > 21"
   ]
  },
  {
   "cell_type": "code",
   "execution_count": 60,
   "id": "77dc4f6c",
   "metadata": {},
   "outputs": [
    {
     "data": {
      "text/plain": [
       "False"
      ]
     },
     "execution_count": 60,
     "metadata": {},
     "output_type": "execute_result"
    }
   ],
   "source": [
    "age = 19\n",
    "age >= 21"
   ]
  },
  {
   "cell_type": "code",
   "execution_count": 61,
   "id": "e61488bd",
   "metadata": {},
   "outputs": [
    {
     "name": "stdout",
     "output_type": "stream",
     "text": [
      "Checking Multiple Conditions:\n",
      "The keywords and & or can help you in these situations.\n"
     ]
    }
   ],
   "source": [
    "print(\"Checking Multiple Conditions:\")\n",
    "print(\"The keywords and & or can help you in these situations.\")"
   ]
  },
  {
   "cell_type": "code",
   "execution_count": 72,
   "id": "21a92927",
   "metadata": {},
   "outputs": [
    {
     "name": "stdout",
     "output_type": "stream",
     "text": [
      "Using  and  to Check Multiple Conditions:\n",
      "\n"
     ]
    }
   ],
   "source": [
    "print(\"Using  and  to Check Multiple Conditions:\" + \"\\n\")\n"
   ]
  },
  {
   "cell_type": "code",
   "execution_count": 63,
   "id": "593f692a",
   "metadata": {},
   "outputs": [
    {
     "data": {
      "text/plain": [
       "False"
      ]
     },
     "execution_count": 63,
     "metadata": {},
     "output_type": "execute_result"
    }
   ],
   "source": [
    "age_0 = 22\n",
    "age_1 = 18\n",
    "age_0 >= 21 and age_1 >= 21\n"
   ]
  },
  {
   "cell_type": "code",
   "execution_count": 64,
   "id": "5b3e3d6c",
   "metadata": {},
   "outputs": [
    {
     "data": {
      "text/plain": [
       "True"
      ]
     },
     "execution_count": 64,
     "metadata": {},
     "output_type": "execute_result"
    }
   ],
   "source": [
    "age_0 =22\n",
    "age_1 = 22\n",
    "age_0 >= 21 and age_1 >= 21"
   ]
  },
  {
   "cell_type": "code",
   "execution_count": 65,
   "id": "7f4ad00e",
   "metadata": {},
   "outputs": [
    {
     "name": "stdout",
     "output_type": "stream",
     "text": [
      "With parenthesis for improved readability:\n"
     ]
    },
    {
     "data": {
      "text/plain": [
       "True"
      ]
     },
     "execution_count": 65,
     "metadata": {},
     "output_type": "execute_result"
    }
   ],
   "source": [
    "print('With parenthesis for improved readability:')\n",
    "age_0 =22\n",
    "age_1 = 22\n",
    "(age_0 >= 21) and (age_1 >= 21)"
   ]
  },
  {
   "cell_type": "code",
   "execution_count": 71,
   "id": "b179b49b",
   "metadata": {},
   "outputs": [
    {
     "name": "stdout",
     "output_type": "stream",
     "text": [
      "Using  or  to Check Multiple Conditions:\n",
      "\n"
     ]
    }
   ],
   "source": [
    "print(\"Using  or  to Check Multiple Conditions:\" + \"\\n\")"
   ]
  },
  {
   "cell_type": "code",
   "execution_count": 68,
   "id": "af7a73d0",
   "metadata": {},
   "outputs": [
    {
     "data": {
      "text/plain": [
       "True"
      ]
     },
     "execution_count": 68,
     "metadata": {},
     "output_type": "execute_result"
    }
   ],
   "source": [
    "age_0 = 22\n",
    "age_1 = 18\n",
    "age_0 >= 21 or age_1 >= 21"
   ]
  },
  {
   "cell_type": "code",
   "execution_count": 69,
   "id": "72701b7c",
   "metadata": {},
   "outputs": [
    {
     "data": {
      "text/plain": [
       "False"
      ]
     },
     "execution_count": 69,
     "metadata": {},
     "output_type": "execute_result"
    }
   ],
   "source": [
    "age_0 = 18\n",
    "age_1 = 18\n",
    "age_0 >= 21 or age_1 >= 21"
   ]
  },
  {
   "cell_type": "code",
   "execution_count": 74,
   "id": "993cb369",
   "metadata": {},
   "outputs": [
    {
     "name": "stdout",
     "output_type": "stream",
     "text": [
      "Checking Whether a Value Is in a List\n",
      "\n",
      "To find out whether a particular value is already in a list, use the keyword  in .\n"
     ]
    }
   ],
   "source": [
    "print(\"Checking Whether a Value Is in a List\")\n",
    "print(\"\\nTo find out whether a particular value is already in a list, use the keyword  in .\")"
   ]
  },
  {
   "cell_type": "code",
   "execution_count": 76,
   "id": "8c98b6f2",
   "metadata": {},
   "outputs": [
    {
     "data": {
      "text/plain": [
       "True"
      ]
     },
     "execution_count": 76,
     "metadata": {},
     "output_type": "execute_result"
    }
   ],
   "source": [
    "requested_toppings = ['mushrooms', 'onions', 'pineapple']\n",
    "'mushrooms' in requested_toppings"
   ]
  },
  {
   "cell_type": "code",
   "execution_count": 77,
   "id": "71921368",
   "metadata": {},
   "outputs": [
    {
     "data": {
      "text/plain": [
       "False"
      ]
     },
     "execution_count": 77,
     "metadata": {},
     "output_type": "execute_result"
    }
   ],
   "source": [
    "requested_toppings = ['mushrooms', 'onions', 'pineapple']\n",
    "'pepperoni' in requested_toppings"
   ]
  },
  {
   "cell_type": "code",
   "execution_count": 78,
   "id": "58a3318d",
   "metadata": {},
   "outputs": [
    {
     "name": "stdout",
     "output_type": "stream",
     "text": [
      "Checking Whether a Value Is NOT in a List\n",
      "\n",
      "To know if a value does not appear in a list you can use the keyword  not .\n"
     ]
    }
   ],
   "source": [
    "print(\"Checking Whether a Value Is NOT in a List\")\n",
    "print(\"\\nTo know if a value does not appear in a list you can use the keyword  not .\")"
   ]
  },
  {
   "cell_type": "code",
   "execution_count": 80,
   "id": "172cbcb6",
   "metadata": {},
   "outputs": [
    {
     "name": "stdout",
     "output_type": "stream",
     "text": [
      "Marie, you can post a response if you wish.\n"
     ]
    }
   ],
   "source": [
    "banned_users = ['andrew', 'carolina', 'david']\n",
    "user = 'marie'\n",
    "\n",
    "if user not in banned_users:\n",
    "    print(user.title() + \", you can post a response if you wish.\")"
   ]
  },
  {
   "cell_type": "code",
   "execution_count": 82,
   "id": "a2a418fa",
   "metadata": {},
   "outputs": [
    {
     "name": "stdout",
     "output_type": "stream",
     "text": [
      "Boolean Expressions:\n",
      "\n",
      "Just another name for conditional test.\n"
     ]
    }
   ],
   "source": [
    "print(\"Boolean Expressions:\")\n",
    "print(\"\\nJust another name for conditional test.\")"
   ]
  },
  {
   "cell_type": "code",
   "execution_count": 83,
   "id": "0ce1b28f",
   "metadata": {},
   "outputs": [],
   "source": [
    "game_active = True\n",
    "can_edit = False"
   ]
  },
  {
   "cell_type": "code",
   "execution_count": 85,
   "id": "d940444a",
   "metadata": {},
   "outputs": [
    {
     "name": "stdout",
     "output_type": "stream",
     "text": [
      "if Statements:\n",
      "\n"
     ]
    }
   ],
   "source": [
    "print(\"if Statements:\" + \"\\n\")\n",
    "\n"
   ]
  },
  {
   "cell_type": "code",
   "execution_count": null,
   "id": "7c57c615",
   "metadata": {},
   "outputs": [],
   "source": [
    "print(\"Simple if Statements:\")\n",
    "if conditional_test: \n",
    "    do something"
   ]
  },
  {
   "cell_type": "code",
   "execution_count": 89,
   "id": "cd3c51af",
   "metadata": {},
   "outputs": [
    {
     "name": "stdout",
     "output_type": "stream",
     "text": [
      "You are old enough to vote!\n",
      "\n",
      "(Indentation plays the same role in if statements as it did in for loops.)\n"
     ]
    }
   ],
   "source": [
    "age = 19\n",
    "if age >= 18:\n",
    "    print(\"You are old enough to vote!\")\n",
    "\n",
    "print(\"\\n(Indentation plays the same role in if statements as it did in for loops.)\")"
   ]
  },
  {
   "cell_type": "code",
   "execution_count": 95,
   "id": "a28263d0",
   "metadata": {},
   "outputs": [
    {
     "name": "stdout",
     "output_type": "stream",
     "text": [
      "You are old enough to vote!\n",
      "Have you registered to vote yet?\n"
     ]
    }
   ],
   "source": [
    "age = 19\n",
    "if age >= 18:\n",
    "    print(\"You are old enough to vote!\")\n",
    "    print(\"Have you registered to vote yet?\")"
   ]
  },
  {
   "cell_type": "code",
   "execution_count": 100,
   "id": "3a23088d",
   "metadata": {},
   "outputs": [
    {
     "name": "stdout",
     "output_type": "stream",
     "text": [
      "if-else Statements:\n",
      "\n",
      "Sorry, you are too young to vote.\n",
      "Please register to vote as soon as you turn 18!\n"
     ]
    }
   ],
   "source": [
    "print(\"if-else Statements:\" + \"\\n\")\n",
    "\n",
    "age = 17\n",
    "if age >= 18:\n",
    "    print(\"You are old enough to vote!\")\n",
    "    print(\"Have you registered to vote yet?\")\n",
    "else:\n",
    "    print(\"Sorry, you are too young to vote.\")\n",
    "    print(\"Please register to vote as soon as you turn 18!\")"
   ]
  },
  {
   "cell_type": "code",
   "execution_count": 105,
   "id": "cb53a5f7",
   "metadata": {},
   "outputs": [
    {
     "name": "stdout",
     "output_type": "stream",
     "text": [
      "The if-elif-else Chain:\n"
     ]
    }
   ],
   "source": [
    "print(\"The if-elif-else Chain:\")"
   ]
  },
  {
   "cell_type": "code",
   "execution_count": 107,
   "id": "aa841ced",
   "metadata": {},
   "outputs": [
    {
     "name": "stdout",
     "output_type": "stream",
     "text": [
      "Your admission cost is $5.\n"
     ]
    }
   ],
   "source": [
    "age = 12\n",
    "\n",
    "if age < 4:\n",
    "    print(\"Your admission cost is $0.\")\n",
    "elif age < 18:\n",
    "    print(\"Your admission cost is $5.\")\n",
    "else:\n",
    "    print(\"Your admission cost is $10.\")"
   ]
  },
  {
   "cell_type": "code",
   "execution_count": 109,
   "id": "9f208504",
   "metadata": {},
   "outputs": [
    {
     "name": "stdout",
     "output_type": "stream",
     "text": [
      "Your admission cost is $10.\n"
     ]
    }
   ],
   "source": [
    "age = 22\n",
    "\n",
    "if age < 4:\n",
    "    print(\"Your admission cost is $0.\")\n",
    "elif age < 18:\n",
    "    print(\"Your admission cost is $5.\")\n",
    "else:\n",
    "    print(\"Your admission cost is $10.\")"
   ]
  },
  {
   "cell_type": "code",
   "execution_count": 114,
   "id": "79c75a50",
   "metadata": {},
   "outputs": [
    {
     "name": "stdout",
     "output_type": "stream",
     "text": [
      "(More concise)\n",
      "\n",
      "Your admission cost is $5.\n"
     ]
    }
   ],
   "source": [
    "print(\"(More concise)\" + '\\n')\n",
    "\n",
    "age = 12\n",
    "\n",
    "if age < 4:\n",
    "    price = 0\n",
    "elif age < 18:\n",
    "    price = 5\n",
    "else:\n",
    "    price = 10\n",
    "\n",
    "print(\"Your admission cost is $\" + str(price) + \".\")"
   ]
  },
  {
   "cell_type": "code",
   "execution_count": 122,
   "id": "e6322bdc",
   "metadata": {},
   "outputs": [
    {
     "name": "stdout",
     "output_type": "stream",
     "text": [
      "Using Multiple elif Blocks:\n",
      "\n",
      "Your admission cost is $5.\n"
     ]
    }
   ],
   "source": [
    "print(\"Using Multiple elif Blocks:\" + \"\\n\")\n",
    "\n",
    "age = 12\n",
    "\n",
    "if age < 4:\n",
    "    price = 0\n",
    "elif age < 18:\n",
    "    price = 5\n",
    "elif age < 65:\n",
    "    price = 10\n",
    "else:\n",
    "    price = 5\n",
    "\n",
    "print(\"Your admission cost is $\" + str(price) + \".\")"
   ]
  },
  {
   "cell_type": "code",
   "execution_count": 124,
   "id": "091cf47c",
   "metadata": {},
   "outputs": [
    {
     "name": "stdout",
     "output_type": "stream",
     "text": [
      "Omitting the  else  Block:\n",
      "\n",
      "Your admission cost is $5.\n"
     ]
    }
   ],
   "source": [
    "print(\"Omitting the  else  Block:\" + \"\\n\")\n",
    "\n",
    "age = 12\n",
    "\n",
    "if age < 4:\n",
    "    price = 0\n",
    "elif age < 18:\n",
    "    price = 5\n",
    "elif age < 65:\n",
    "    price = 10\n",
    "elif age >= 65:\n",
    "    price = 5\n",
    "\n",
    "print(\"Your admission cost is $\" + str(price) + \".\")"
   ]
  },
  {
   "cell_type": "code",
   "execution_count": 127,
   "id": "b1be8093",
   "metadata": {},
   "outputs": [
    {
     "name": "stdout",
     "output_type": "stream",
     "text": [
      "Testing Multiple Conditions:\n",
      "\n",
      "Adding mushrooms.\n",
      "Adding extra cheese.\n",
      "\n",
      "Finished making your pizza!\n"
     ]
    }
   ],
   "source": [
    "print(\"Testing Multiple Conditions:\" + \"\\n\")\n",
    "\n",
    "requested_toppings = ['mushrooms', 'extra cheese']\n",
    "\n",
    "if 'mushrooms' in requested_toppings:\n",
    "    print(\"Adding mushrooms.\")\n",
    "if 'pepperoni' in requested_toppings:\n",
    "    print(\"Adding pepperoni.\")\n",
    "if 'extra cheese' in requested_toppings:\n",
    "    print(\"Adding extra cheese.\")\n",
    "\n",
    "print(\"\\nFinished making your pizza!\")"
   ]
  },
  {
   "cell_type": "code",
   "execution_count": 131,
   "id": "c545d9fd",
   "metadata": {},
   "outputs": [
    {
     "name": "stdout",
     "output_type": "stream",
     "text": [
      "With if-elif-else block.\n",
      "\n",
      "Adding mushrooms.\n",
      "\n",
      "Finished making your pizza!\n",
      "\n",
      "(Python doesn’t run any tests beyond the first test that passes in an if-elif-else chain.)\n"
     ]
    }
   ],
   "source": [
    "print(\"With if-elif-else block.\" + \"\\n\")\n",
    "\n",
    "requested_toppings = ['mushrooms', 'extra cheese']\n",
    "\n",
    "if 'mushrooms' in requested_toppings:\n",
    "    print(\"Adding mushrooms.\")\n",
    "elif 'pepperoni' in requested_toppings:\n",
    "    print(\"Adding pepperoni.\")\n",
    "elif 'extra cheese' in requested_toppings:\n",
    "    print(\"Adding extra cheese.\")\n",
    "\n",
    "print(\"\\nFinished making your pizza!\")\n",
    "\n",
    "print(\"\\n(Python doesn’t run any tests beyond the first test that passes in an if-elif-else chain.)\")"
   ]
  },
  {
   "cell_type": "code",
   "execution_count": 133,
   "id": "655009dd",
   "metadata": {},
   "outputs": [
    {
     "name": "stdout",
     "output_type": "stream",
     "text": [
      "Using  if  Statements with Lists:\n"
     ]
    }
   ],
   "source": [
    "print(\"Using  if  Statements with Lists:\")"
   ]
  },
  {
   "cell_type": "code",
   "execution_count": 143,
   "id": "a069d9de",
   "metadata": {},
   "outputs": [
    {
     "name": "stdout",
     "output_type": "stream",
     "text": [
      "Checking for Special Items:\n",
      "\n",
      "(What if green peppers runs out?)\n",
      "\n",
      "Adding mushrooms.\n",
      "Sorry, we are out of green peppers right now.\n",
      "Adding extra cheese.\n",
      "\n",
      "Finished making your pizza!\n"
     ]
    }
   ],
   "source": [
    "print(\"Checking for Special Items:\" + \"\\n\")\n",
    "print(\"(What if green peppers runs out?)\" + '\\n')\n",
    "\n",
    "requested_toppings = ['mushrooms', 'green peppers', 'extra cheese']\n",
    "\n",
    "for requested_topping in requested_toppings:\n",
    "    if requested_topping == 'green peppers':\n",
    "        print(\"Sorry, we are out of green peppers right now.\")\n",
    "    else:\n",
    "        print(\"Adding \" + requested_topping + \".\")\n",
    "    \n",
    "print(\"\\nFinished making your pizza!\")"
   ]
  },
  {
   "cell_type": "code",
   "execution_count": 150,
   "id": "9d049d26",
   "metadata": {},
   "outputs": [
    {
     "name": "stdout",
     "output_type": "stream",
     "text": [
      "Checking That a List Is Not Empty:\n",
      "\n",
      "'Empty List Example'\n",
      "\n",
      "Are you sure you want a plain pizza?\n"
     ]
    }
   ],
   "source": [
    "print(\"Checking That a List Is Not Empty:\" + \"\\n\")\n",
    "print(\"'Empty List Example'\" + '\\n')\n",
    "\n",
    "requested_toppings = []\n",
    "if requested_toppings:\n",
    "    for requested_topping in requested_toppings:\n",
    "        print(\"Adding \" + requested_topping + \".\")\n",
    "    print(\"\\nFinished making your pizza!\")\n",
    "else:\n",
    "    print(\"Are you sure you want a plain pizza?\")"
   ]
  },
  {
   "cell_type": "code",
   "execution_count": 151,
   "id": "3a153751",
   "metadata": {},
   "outputs": [
    {
     "name": "stdout",
     "output_type": "stream",
     "text": [
      "Checking That a List Is Not Empty:\n",
      "\n",
      "'Non Empty List Example'\n",
      "\n",
      "Adding anchovies.\n",
      "Adding green pepper.\n",
      "Adding onions.\n",
      "\n",
      "Finished making your pizza!\n"
     ]
    }
   ],
   "source": [
    "print(\"Checking That a List Is Not Empty:\" + \"\\n\")\n",
    "print(\"'Non Empty List Example'\" + '\\n')\n",
    "\n",
    "requested_toppings = ['anchovies', 'green pepper', 'onions']\n",
    "if requested_toppings:\n",
    "    for requested_topping in requested_toppings:\n",
    "        print(\"Adding \" + requested_topping + \".\")\n",
    "    print(\"\\nFinished making your pizza!\")\n",
    "else:\n",
    "    print(\"Are you sure you want a plain pizza?\")"
   ]
  },
  {
   "cell_type": "code",
   "execution_count": 152,
   "id": "09d25aa9",
   "metadata": {},
   "outputs": [
    {
     "name": "stdout",
     "output_type": "stream",
     "text": [
      "Using Multiple Lists:\n",
      "\n",
      "Adding mushrooms.\n",
      "Sorry, we don't have french fries.\n",
      "Adding extra cheese.\n",
      "\n",
      "Finished making your pizza!\n"
     ]
    }
   ],
   "source": [
    "print(\"Using Multiple Lists:\" + '\\n')\n",
    "\n",
    "available_toppings = ['mushrooms', 'olives', 'green peppers', 'pepperoni', 'pineapple', 'extra cheese']\n",
    "\n",
    "requested_toppings = ['mushrooms', 'french fries', 'extra cheese']\n",
    "\n",
    "for requested_topping in requested_toppings:\n",
    "    if requested_topping in available_toppings:\n",
    "        print(\"Adding \" + requested_topping + \".\")\n",
    "    else:\n",
    "        print(\"Sorry, we don't have \" + requested_topping + \".\")\n",
    "\n",
    "print(\"\\nFinished making your pizza!\")\n"
   ]
  },
  {
   "cell_type": "code",
   "execution_count": 164,
   "id": "95088e6e",
   "metadata": {},
   "outputs": [
    {
     "name": "stdout",
     "output_type": "stream",
     "text": [
      "Styling Your if Statements:\n",
      "\n",
      "PEP 8 recommendation: use a single space around comparison operators, such as ==, >=, <=.\n",
      "\n",
      "Example:  if age < 4:  is better than  if age<4 :\n"
     ]
    }
   ],
   "source": [
    "print(\"Styling Your if Statements:\" + '\\n')\n",
    "print(\"PEP 8 recommendation: use a single space around comparison operators, such as ==, >=, <=.\")\n",
    "print(\"\\nExample:  if age < 4:  is better than  if age<4 :\")"
   ]
  }
 ],
 "metadata": {
  "kernelspec": {
   "display_name": "Python 3",
   "language": "python",
   "name": "python3"
  },
  "language_info": {
   "codemirror_mode": {
    "name": "ipython",
    "version": 3
   },
   "file_extension": ".py",
   "mimetype": "text/x-python",
   "name": "python",
   "nbconvert_exporter": "python",
   "pygments_lexer": "ipython3",
   "version": "3.8.8"
  }
 },
 "nbformat": 4,
 "nbformat_minor": 5
}
