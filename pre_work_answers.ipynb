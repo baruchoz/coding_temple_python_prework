{
 "cells": [
  {
   "cell_type": "code",
   "execution_count": null,
   "id": "edac0564",
   "metadata": {},
   "outputs": [],
   "source": [
    "# Python Pre Work Questions"
   ]
  },
  {
   "cell_type": "code",
   "execution_count": null,
   "id": "c8e387fe",
   "metadata": {},
   "outputs": [],
   "source": [
    "# Answer 1\n",
    "def hello_name():\n",
    "    return \"Hello \" + input(\"Username: \").title() + \"!\"\n",
    "\n",
    "hello_name()"
   ]
  },
  {
   "cell_type": "code",
   "execution_count": null,
   "id": "73da498a",
   "metadata": {},
   "outputs": [],
   "source": [
    "def hello_name(user_name):\n",
    "    print(\"Hello \" + user_name.title() + \"!\")\n",
    "    \n",
    "hello_name('Baruch')"
   ]
  },
  {
   "cell_type": "code",
   "execution_count": null,
   "id": "791ba335",
   "metadata": {},
   "outputs": [],
   "source": [
    "# Answer 2a\n",
    "def odd_numbers():\n",
    "    for i in range(1,101,2):\n",
    "        print(i)        \n",
    "odd_numbers()"
   ]
  },
  {
   "cell_type": "code",
   "execution_count": null,
   "id": "a066e836",
   "metadata": {},
   "outputs": [],
   "source": [
    "# Answer 2b\n",
    "\n",
    "odd_numbers = list(range(1,21,2))\n",
    "print(odd_numbers)"
   ]
  },
  {
   "cell_type": "code",
   "execution_count": null,
   "id": "69a1e696",
   "metadata": {},
   "outputs": [],
   "source": [
    "# Answer 3a\n",
    "def max_num_in_list(a_list):\n",
    "    return max(a_list)\n",
    "\n",
    "max_num_in_list([0,17,48,999,676,4,86,44])"
   ]
  },
  {
   "cell_type": "code",
   "execution_count": null,
   "id": "59cc1e60",
   "metadata": {},
   "outputs": [],
   "source": [
    "# Answer 3b\n",
    "def max_num_in_list(a_list):\n",
    "    max_num = max(a_list)\n",
    "    return max_num\n",
    "print(max_num_in_list([2,3,5,8,9]))"
   ]
  },
  {
   "cell_type": "code",
   "execution_count": 3,
   "id": "2e86abb2",
   "metadata": {},
   "outputs": [
    {
     "name": "stdout",
     "output_type": "stream",
     "text": [
      "False\n"
     ]
    }
   ],
   "source": [
    "# Answer 4\n",
    "\n",
    "def is_leap_year(year):\n",
    "    if year % 4 == 0 and (year % 400 == 0 or year % 100 != 0):\n",
    "        print(True)\n",
    "    else:\n",
    "        print(False)\n",
    "\n",
    "is_leap_year(2019)"
   ]
  },
  {
   "cell_type": "code",
   "execution_count": 2,
   "id": "affabcde",
   "metadata": {},
   "outputs": [],
   "source": [
    "# Answer 5a\n",
    "def is_consecutive(a_list):\n",
    "    i = 0\n",
    "    status = True\n",
    "    while i < len(a_list) - 1:\n",
    "        if a_list[i] + 1 == a_list[i + 1]:\n",
    "            i += 1\n",
    "        else:\n",
    "            status = False\n",
    "            break\n",
    "    print(status)"
   ]
  },
  {
   "cell_type": "code",
   "execution_count": 1,
   "id": "78291311",
   "metadata": {},
   "outputs": [
    {
     "name": "stdout",
     "output_type": "stream",
     "text": [
      "True\n"
     ]
    }
   ],
   "source": [
    "# Answer 5b\n",
    "def checkConsecutive(l):\n",
    "    return sorted(l) == list(range(min(l), max(l)+1))\n",
    "      \n",
    "# Driver Code\n",
    "lst = [2, 3, 1, 4, 5]\n",
    "print(checkConsecutive(lst))"
   ]
  },
  {
   "cell_type": "code",
   "execution_count": null,
   "id": "049e7f2c",
   "metadata": {},
   "outputs": [],
   "source": []
  }
 ],
 "metadata": {
  "kernelspec": {
   "display_name": "Python 3",
   "language": "python",
   "name": "python3"
  },
  "language_info": {
   "codemirror_mode": {
    "name": "ipython",
    "version": 3
   },
   "file_extension": ".py",
   "mimetype": "text/x-python",
   "name": "python",
   "nbconvert_exporter": "python",
   "pygments_lexer": "ipython3",
   "version": "3.8.8"
  }
 },
 "nbformat": 4,
 "nbformat_minor": 5
}
